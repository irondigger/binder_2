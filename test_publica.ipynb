{
 "cells": [
  {
   "cell_type": "code",
   "execution_count": 1,
   "id": "fccf5134",
   "metadata": {},
   "outputs": [],
   "source": [
    "import requests\n",
    "import json\n",
    "import pandas as pd"
   ]
  },
  {
   "cell_type": "code",
   "execution_count": 2,
   "id": "983ab06a",
   "metadata": {},
   "outputs": [
    {
     "name": "stdout",
     "output_type": "stream",
     "text": [
      "943\n"
     ]
    }
   ],
   "source": [
    "scope = \"0e2af239-19f8-4f89-80d6-d9e86b2eb0db\"\n",
    "#url = \"https://publica-rest.fraunhofer.de/server/api/discover/search/objects?scope=423046ba-e1a7-4551-b770-d858144ae4df&configuration=RELATION.Person.researchoutputs\"\n",
    "url = \"https://publica-rest.fraunhofer.de/server/api/discover/search/objects?scope=\"+scope+\"&configuration=RELATION.Person.researchoutputs\"\n",
    "r = requests.request(\"GET\", url)\n",
    "data = r.text\n",
    "data = json.loads(data)\n",
    "#print(data)\n",
    "anzahl = data[\"_embedded\"][\"searchResult\"][\"page\"][\"totalElements\"]\n",
    "anzahl = int(anzahl)\n",
    "print(anzahl)"
   ]
  },
  {
   "cell_type": "code",
   "execution_count": null,
   "id": "0be28963",
   "metadata": {},
   "outputs": [],
   "source": []
  }
 ],
 "metadata": {
  "kernelspec": {
   "display_name": "Python 3",
   "language": "python",
   "name": "python3"
  },
  "language_info": {
   "codemirror_mode": {
    "name": "ipython",
    "version": 3
   },
   "file_extension": ".py",
   "mimetype": "text/x-python",
   "name": "python",
   "nbconvert_exporter": "python",
   "pygments_lexer": "ipython3",
   "version": "3.6.9"
  }
 },
 "nbformat": 4,
 "nbformat_minor": 5
}
